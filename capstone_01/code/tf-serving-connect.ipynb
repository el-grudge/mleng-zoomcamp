{
 "cells": [
  {
   "cell_type": "code",
   "execution_count": 4,
   "metadata": {},
   "outputs": [
    {
     "name": "stdout",
     "output_type": "stream",
     "text": [
      "Collecting grpcio==1.42.0\n",
      "  Using cached grpcio-1.42.0-cp310-cp310-manylinux_2_17_x86_64.manylinux2014_x86_64.whl (4.0 MB)\n",
      "Requirement already satisfied: tensorflow-serving-api==2.7.0 in /home/minasonbol/.local/share/virtualenvs/capstone--2v8XePa/lib/python3.10/site-packages (2.7.0)\n",
      "Requirement already satisfied: six>=1.5.2 in /home/minasonbol/.local/share/virtualenvs/capstone--2v8XePa/lib/python3.10/site-packages (from grpcio==1.42.0) (1.16.0)\n",
      "Requirement already satisfied: protobuf>=3.6.0 in /home/minasonbol/.local/share/virtualenvs/capstone--2v8XePa/lib/python3.10/site-packages (from tensorflow-serving-api==2.7.0) (4.23.4)\n",
      "Requirement already satisfied: tensorflow<3,>=2.7.0 in /home/minasonbol/.local/share/virtualenvs/capstone--2v8XePa/lib/python3.10/site-packages (from tensorflow-serving-api==2.7.0) (2.15.0)\n",
      "Requirement already satisfied: absl-py>=1.0.0 in /home/minasonbol/.local/share/virtualenvs/capstone--2v8XePa/lib/python3.10/site-packages (from tensorflow<3,>=2.7.0->tensorflow-serving-api==2.7.0) (2.0.0)\n",
      "Requirement already satisfied: astunparse>=1.6.0 in /home/minasonbol/.local/share/virtualenvs/capstone--2v8XePa/lib/python3.10/site-packages (from tensorflow<3,>=2.7.0->tensorflow-serving-api==2.7.0) (1.6.3)\n",
      "Requirement already satisfied: flatbuffers>=23.5.26 in /home/minasonbol/.local/share/virtualenvs/capstone--2v8XePa/lib/python3.10/site-packages (from tensorflow<3,>=2.7.0->tensorflow-serving-api==2.7.0) (23.5.26)\n",
      "Requirement already satisfied: gast!=0.5.0,!=0.5.1,!=0.5.2,>=0.2.1 in /home/minasonbol/.local/share/virtualenvs/capstone--2v8XePa/lib/python3.10/site-packages (from tensorflow<3,>=2.7.0->tensorflow-serving-api==2.7.0) (0.5.4)\n",
      "Requirement already satisfied: google-pasta>=0.1.1 in /home/minasonbol/.local/share/virtualenvs/capstone--2v8XePa/lib/python3.10/site-packages (from tensorflow<3,>=2.7.0->tensorflow-serving-api==2.7.0) (0.2.0)\n",
      "Requirement already satisfied: h5py>=2.9.0 in /home/minasonbol/.local/share/virtualenvs/capstone--2v8XePa/lib/python3.10/site-packages (from tensorflow<3,>=2.7.0->tensorflow-serving-api==2.7.0) (3.10.0)\n",
      "Requirement already satisfied: libclang>=13.0.0 in /home/minasonbol/.local/share/virtualenvs/capstone--2v8XePa/lib/python3.10/site-packages (from tensorflow<3,>=2.7.0->tensorflow-serving-api==2.7.0) (16.0.6)\n",
      "Requirement already satisfied: ml-dtypes~=0.2.0 in /home/minasonbol/.local/share/virtualenvs/capstone--2v8XePa/lib/python3.10/site-packages (from tensorflow<3,>=2.7.0->tensorflow-serving-api==2.7.0) (0.2.0)\n",
      "Requirement already satisfied: numpy<2.0.0,>=1.23.5 in /home/minasonbol/.local/share/virtualenvs/capstone--2v8XePa/lib/python3.10/site-packages (from tensorflow<3,>=2.7.0->tensorflow-serving-api==2.7.0) (1.26.2)\n",
      "Requirement already satisfied: opt-einsum>=2.3.2 in /home/minasonbol/.local/share/virtualenvs/capstone--2v8XePa/lib/python3.10/site-packages (from tensorflow<3,>=2.7.0->tensorflow-serving-api==2.7.0) (3.3.0)\n",
      "Requirement already satisfied: packaging in /home/minasonbol/.local/share/virtualenvs/capstone--2v8XePa/lib/python3.10/site-packages (from tensorflow<3,>=2.7.0->tensorflow-serving-api==2.7.0) (23.2)\n",
      "Requirement already satisfied: setuptools in /home/minasonbol/.local/share/virtualenvs/capstone--2v8XePa/lib/python3.10/site-packages (from tensorflow<3,>=2.7.0->tensorflow-serving-api==2.7.0) (69.0.2)\n",
      "Requirement already satisfied: termcolor>=1.1.0 in /home/minasonbol/.local/share/virtualenvs/capstone--2v8XePa/lib/python3.10/site-packages (from tensorflow<3,>=2.7.0->tensorflow-serving-api==2.7.0) (2.4.0)\n",
      "Requirement already satisfied: typing-extensions>=3.6.6 in /home/minasonbol/.local/share/virtualenvs/capstone--2v8XePa/lib/python3.10/site-packages (from tensorflow<3,>=2.7.0->tensorflow-serving-api==2.7.0) (4.9.0)\n",
      "Requirement already satisfied: wrapt<1.15,>=1.11.0 in /home/minasonbol/.local/share/virtualenvs/capstone--2v8XePa/lib/python3.10/site-packages (from tensorflow<3,>=2.7.0->tensorflow-serving-api==2.7.0) (1.14.1)\n",
      "Requirement already satisfied: tensorflow-io-gcs-filesystem>=0.23.1 in /home/minasonbol/.local/share/virtualenvs/capstone--2v8XePa/lib/python3.10/site-packages (from tensorflow<3,>=2.7.0->tensorflow-serving-api==2.7.0) (0.34.0)\n",
      "Requirement already satisfied: tensorboard<2.16,>=2.15 in /home/minasonbol/.local/share/virtualenvs/capstone--2v8XePa/lib/python3.10/site-packages (from tensorflow<3,>=2.7.0->tensorflow-serving-api==2.7.0) (2.15.1)\n",
      "Requirement already satisfied: tensorflow-estimator<2.16,>=2.15.0 in /home/minasonbol/.local/share/virtualenvs/capstone--2v8XePa/lib/python3.10/site-packages (from tensorflow<3,>=2.7.0->tensorflow-serving-api==2.7.0) (2.15.0)\n",
      "Requirement already satisfied: keras<2.16,>=2.15.0 in /home/minasonbol/.local/share/virtualenvs/capstone--2v8XePa/lib/python3.10/site-packages (from tensorflow<3,>=2.7.0->tensorflow-serving-api==2.7.0) (2.15.0)\n",
      "Requirement already satisfied: wheel<1.0,>=0.23.0 in /home/minasonbol/.local/share/virtualenvs/capstone--2v8XePa/lib/python3.10/site-packages (from astunparse>=1.6.0->tensorflow<3,>=2.7.0->tensorflow-serving-api==2.7.0) (0.42.0)\n",
      "INFO: pip is looking at multiple versions of tensorboard to determine which version is compatible with other requirements. This could take a while.\n",
      "Collecting tensorboard<2.16,>=2.15 (from tensorflow<3,>=2.7.0->tensorflow-serving-api==2.7.0)\n",
      "  Using cached tensorboard-2.15.0-py3-none-any.whl.metadata (1.7 kB)\n",
      "Collecting tensorflow<3,>=2.7.0 (from tensorflow-serving-api==2.7.0)\n",
      "  Using cached tensorflow-2.15.0.post1-cp310-cp310-manylinux_2_17_x86_64.manylinux2014_x86_64.whl.metadata (4.2 kB)\n",
      "  Using cached tensorflow-2.15.0-cp310-cp310-manylinux_2_17_x86_64.manylinux2014_x86_64.whl.metadata (4.4 kB)\n",
      "  Using cached tensorflow-2.14.1-cp310-cp310-manylinux_2_17_x86_64.manylinux2014_x86_64.whl.metadata (4.1 kB)\n",
      "Collecting tensorboard<2.15,>=2.14 (from tensorflow<3,>=2.7.0->tensorflow-serving-api==2.7.0)\n",
      "  Using cached tensorboard-2.14.1-py3-none-any.whl.metadata (1.7 kB)\n",
      "Collecting tensorflow-estimator<2.15,>=2.14.0 (from tensorflow<3,>=2.7.0->tensorflow-serving-api==2.7.0)\n",
      "  Using cached tensorflow_estimator-2.14.0-py2.py3-none-any.whl.metadata (1.3 kB)\n",
      "Collecting keras<2.15,>=2.14.0 (from tensorflow<3,>=2.7.0->tensorflow-serving-api==2.7.0)\n",
      "  Using cached keras-2.14.0-py3-none-any.whl.metadata (2.4 kB)\n",
      "Collecting tensorboard<2.15,>=2.14 (from tensorflow<3,>=2.7.0->tensorflow-serving-api==2.7.0)\n",
      "  Using cached tensorboard-2.14.0-py3-none-any.whl.metadata (1.8 kB)\n",
      "INFO: pip is still looking at multiple versions of tensorboard to determine which version is compatible with other requirements. This could take a while.\n",
      "Collecting tensorflow<3,>=2.7.0 (from tensorflow-serving-api==2.7.0)\n",
      "  Using cached tensorflow-2.14.0-cp310-cp310-manylinux_2_17_x86_64.manylinux2014_x86_64.whl.metadata (4.1 kB)\n",
      "  Using cached tensorflow-2.13.1-cp310-cp310-manylinux_2_17_x86_64.manylinux2014_x86_64.whl.metadata (3.4 kB)\n",
      "Collecting gast<=0.4.0,>=0.2.1 (from tensorflow<3,>=2.7.0->tensorflow-serving-api==2.7.0)\n",
      "  Using cached gast-0.4.0-py3-none-any.whl (9.8 kB)\n",
      "Collecting keras<2.14,>=2.13.1 (from tensorflow<3,>=2.7.0->tensorflow-serving-api==2.7.0)\n",
      "  Using cached keras-2.13.1-py3-none-any.whl.metadata (2.4 kB)\n",
      "Collecting numpy<=1.24.3,>=1.22 (from tensorflow<3,>=2.7.0->tensorflow-serving-api==2.7.0)\n",
      "  Using cached numpy-1.24.3-cp310-cp310-manylinux_2_17_x86_64.manylinux2014_x86_64.whl (17.3 MB)\n",
      "Collecting tensorboard<2.14,>=2.13 (from tensorflow<3,>=2.7.0->tensorflow-serving-api==2.7.0)\n",
      "  Using cached tensorboard-2.13.0-py3-none-any.whl (5.6 MB)\n",
      "Collecting tensorflow-estimator<2.14,>=2.13.0 (from tensorflow<3,>=2.7.0->tensorflow-serving-api==2.7.0)\n",
      "  Using cached tensorflow_estimator-2.13.0-py2.py3-none-any.whl.metadata (1.3 kB)\n",
      "Collecting typing-extensions<4.6.0,>=3.6.6 (from tensorflow<3,>=2.7.0->tensorflow-serving-api==2.7.0)\n",
      "  Using cached typing_extensions-4.5.0-py3-none-any.whl (27 kB)\n",
      "Collecting tensorflow<3,>=2.7.0 (from tensorflow-serving-api==2.7.0)\n",
      "  Using cached tensorflow-2.13.0-cp310-cp310-manylinux_2_17_x86_64.manylinux2014_x86_64.whl.metadata (3.4 kB)\n",
      "  Using cached tensorflow-2.12.1-cp310-cp310-manylinux_2_17_x86_64.manylinux2014_x86_64.whl.metadata (3.4 kB)\n",
      "Collecting jax>=0.3.15 (from tensorflow<3,>=2.7.0->tensorflow-serving-api==2.7.0)\n",
      "  Using cached jax-0.4.23-py3-none-any.whl.metadata (24 kB)\n",
      "Collecting keras<2.13,>=2.12.0 (from tensorflow<3,>=2.7.0->tensorflow-serving-api==2.7.0)\n",
      "  Using cached keras-2.12.0-py2.py3-none-any.whl (1.7 MB)\n",
      "Collecting tensorboard<2.13,>=2.12 (from tensorflow<3,>=2.7.0->tensorflow-serving-api==2.7.0)\n",
      "  Using cached tensorboard-2.12.3-py3-none-any.whl (5.6 MB)\n",
      "Collecting tensorflow-estimator<2.13,>=2.12.0 (from tensorflow<3,>=2.7.0->tensorflow-serving-api==2.7.0)\n",
      "  Using cached tensorflow_estimator-2.12.0-py2.py3-none-any.whl (440 kB)\n",
      "INFO: This is taking longer than usual. You might need to provide the dependency resolver with stricter constraints to reduce runtime. See https://pip.pypa.io/warnings/backtracking for guidance. If you want to abort this run, press Ctrl + C.\n",
      "Collecting tensorboard<2.13,>=2.12 (from tensorflow<3,>=2.7.0->tensorflow-serving-api==2.7.0)\n",
      "  Using cached tensorboard-2.12.2-py3-none-any.whl (5.6 MB)\n",
      "  Using cached tensorboard-2.12.1-py3-none-any.whl (5.6 MB)\n",
      "  Using cached tensorboard-2.12.0-py3-none-any.whl (5.6 MB)\n",
      "Collecting tensorflow<3,>=2.7.0 (from tensorflow-serving-api==2.7.0)\n",
      "  Using cached tensorflow-2.12.0-cp310-cp310-manylinux_2_17_x86_64.manylinux2014_x86_64.whl (585.9 MB)\n",
      "Collecting numpy<1.24,>=1.22 (from tensorflow<3,>=2.7.0->tensorflow-serving-api==2.7.0)\n",
      "  Using cached numpy-1.23.5-cp310-cp310-manylinux_2_17_x86_64.manylinux2014_x86_64.whl (17.1 MB)\n",
      "Collecting tensorflow<3,>=2.7.0 (from tensorflow-serving-api==2.7.0)\n",
      "  Using cached tensorflow-2.11.1-cp310-cp310-manylinux_2_17_x86_64.manylinux2014_x86_64.whl (588.3 MB)\n",
      "Collecting keras<2.12,>=2.11.0 (from tensorflow<3,>=2.7.0->tensorflow-serving-api==2.7.0)\n",
      "  Using cached keras-2.11.0-py2.py3-none-any.whl (1.7 MB)\n",
      "Collecting protobuf>=3.6.0 (from tensorflow-serving-api==2.7.0)\n",
      "  Using cached protobuf-3.19.6-cp310-cp310-manylinux_2_17_x86_64.manylinux2014_x86_64.whl (1.1 MB)\n",
      "Collecting tensorboard<2.12,>=2.11 (from tensorflow<3,>=2.7.0->tensorflow-serving-api==2.7.0)\n",
      "  Using cached tensorboard-2.11.2-py3-none-any.whl (6.0 MB)\n",
      "Collecting tensorflow-estimator<2.12,>=2.11.0 (from tensorflow<3,>=2.7.0->tensorflow-serving-api==2.7.0)\n",
      "  Using cached tensorflow_estimator-2.11.0-py2.py3-none-any.whl (439 kB)\n",
      "Requirement already satisfied: google-auth<3,>=1.6.3 in /home/minasonbol/.local/share/virtualenvs/capstone--2v8XePa/lib/python3.10/site-packages (from tensorboard<2.12,>=2.11->tensorflow<3,>=2.7.0->tensorflow-serving-api==2.7.0) (2.25.2)\n",
      "Collecting google-auth-oauthlib<0.5,>=0.4.1 (from tensorboard<2.12,>=2.11->tensorflow<3,>=2.7.0->tensorflow-serving-api==2.7.0)\n",
      "  Using cached google_auth_oauthlib-0.4.6-py2.py3-none-any.whl (18 kB)\n",
      "Requirement already satisfied: markdown>=2.6.8 in /home/minasonbol/.local/share/virtualenvs/capstone--2v8XePa/lib/python3.10/site-packages (from tensorboard<2.12,>=2.11->tensorflow<3,>=2.7.0->tensorflow-serving-api==2.7.0) (3.5.1)\n",
      "Requirement already satisfied: requests<3,>=2.21.0 in /home/minasonbol/.local/share/virtualenvs/capstone--2v8XePa/lib/python3.10/site-packages (from tensorboard<2.12,>=2.11->tensorflow<3,>=2.7.0->tensorflow-serving-api==2.7.0) (2.31.0)\n",
      "Collecting tensorboard-data-server<0.7.0,>=0.6.0 (from tensorboard<2.12,>=2.11->tensorflow<3,>=2.7.0->tensorflow-serving-api==2.7.0)\n",
      "  Using cached tensorboard_data_server-0.6.1-py3-none-manylinux2010_x86_64.whl (4.9 MB)\n",
      "Requirement already satisfied: tensorboard-plugin-wit>=1.6.0 in /home/minasonbol/.local/share/virtualenvs/capstone--2v8XePa/lib/python3.10/site-packages (from tensorboard<2.12,>=2.11->tensorflow<3,>=2.7.0->tensorflow-serving-api==2.7.0) (1.8.1)\n",
      "Requirement already satisfied: werkzeug>=1.0.1 in /home/minasonbol/.local/share/virtualenvs/capstone--2v8XePa/lib/python3.10/site-packages (from tensorboard<2.12,>=2.11->tensorflow<3,>=2.7.0->tensorflow-serving-api==2.7.0) (3.0.1)\n",
      "Requirement already satisfied: cachetools<6.0,>=2.0.0 in /home/minasonbol/.local/share/virtualenvs/capstone--2v8XePa/lib/python3.10/site-packages (from google-auth<3,>=1.6.3->tensorboard<2.12,>=2.11->tensorflow<3,>=2.7.0->tensorflow-serving-api==2.7.0) (5.3.2)\n",
      "Requirement already satisfied: pyasn1-modules>=0.2.1 in /home/minasonbol/.local/share/virtualenvs/capstone--2v8XePa/lib/python3.10/site-packages (from google-auth<3,>=1.6.3->tensorboard<2.12,>=2.11->tensorflow<3,>=2.7.0->tensorflow-serving-api==2.7.0) (0.3.0)\n",
      "Requirement already satisfied: rsa<5,>=3.1.4 in /home/minasonbol/.local/share/virtualenvs/capstone--2v8XePa/lib/python3.10/site-packages (from google-auth<3,>=1.6.3->tensorboard<2.12,>=2.11->tensorflow<3,>=2.7.0->tensorflow-serving-api==2.7.0) (4.9)\n",
      "Requirement already satisfied: requests-oauthlib>=0.7.0 in /home/minasonbol/.local/share/virtualenvs/capstone--2v8XePa/lib/python3.10/site-packages (from google-auth-oauthlib<0.5,>=0.4.1->tensorboard<2.12,>=2.11->tensorflow<3,>=2.7.0->tensorflow-serving-api==2.7.0) (1.3.1)\n",
      "Requirement already satisfied: charset-normalizer<4,>=2 in /home/minasonbol/.local/share/virtualenvs/capstone--2v8XePa/lib/python3.10/site-packages (from requests<3,>=2.21.0->tensorboard<2.12,>=2.11->tensorflow<3,>=2.7.0->tensorflow-serving-api==2.7.0) (3.3.2)\n",
      "Requirement already satisfied: idna<4,>=2.5 in /home/minasonbol/.local/share/virtualenvs/capstone--2v8XePa/lib/python3.10/site-packages (from requests<3,>=2.21.0->tensorboard<2.12,>=2.11->tensorflow<3,>=2.7.0->tensorflow-serving-api==2.7.0) (3.6)\n",
      "Requirement already satisfied: urllib3<3,>=1.21.1 in /home/minasonbol/.local/share/virtualenvs/capstone--2v8XePa/lib/python3.10/site-packages (from requests<3,>=2.21.0->tensorboard<2.12,>=2.11->tensorflow<3,>=2.7.0->tensorflow-serving-api==2.7.0) (2.1.0)\n",
      "Requirement already satisfied: certifi>=2017.4.17 in /home/minasonbol/.local/share/virtualenvs/capstone--2v8XePa/lib/python3.10/site-packages (from requests<3,>=2.21.0->tensorboard<2.12,>=2.11->tensorflow<3,>=2.7.0->tensorflow-serving-api==2.7.0) (2023.11.17)\n",
      "Requirement already satisfied: MarkupSafe>=2.1.1 in /home/minasonbol/.local/share/virtualenvs/capstone--2v8XePa/lib/python3.10/site-packages (from werkzeug>=1.0.1->tensorboard<2.12,>=2.11->tensorflow<3,>=2.7.0->tensorflow-serving-api==2.7.0) (2.1.3)\n",
      "Requirement already satisfied: pyasn1<0.6.0,>=0.4.6 in /home/minasonbol/.local/share/virtualenvs/capstone--2v8XePa/lib/python3.10/site-packages (from pyasn1-modules>=0.2.1->google-auth<3,>=1.6.3->tensorboard<2.12,>=2.11->tensorflow<3,>=2.7.0->tensorflow-serving-api==2.7.0) (0.5.1)\n",
      "Requirement already satisfied: oauthlib>=3.0.0 in /home/minasonbol/.local/share/virtualenvs/capstone--2v8XePa/lib/python3.10/site-packages (from requests-oauthlib>=0.7.0->google-auth-oauthlib<0.5,>=0.4.1->tensorboard<2.12,>=2.11->tensorflow<3,>=2.7.0->tensorflow-serving-api==2.7.0) (3.2.2)\n",
      "Installing collected packages: tensorflow-estimator, tensorboard-data-server, protobuf, keras, grpcio, gast, google-auth-oauthlib, tensorboard, tensorflow\n",
      "  Attempting uninstall: tensorflow-estimator\n",
      "    Found existing installation: tensorflow-estimator 2.15.0\n",
      "    Uninstalling tensorflow-estimator-2.15.0:\n",
      "      Successfully uninstalled tensorflow-estimator-2.15.0\n",
      "  Attempting uninstall: tensorboard-data-server\n",
      "    Found existing installation: tensorboard-data-server 0.7.2\n",
      "    Uninstalling tensorboard-data-server-0.7.2:\n",
      "      Successfully uninstalled tensorboard-data-server-0.7.2\n",
      "  Attempting uninstall: protobuf\n",
      "    Found existing installation: protobuf 4.23.4\n",
      "    Uninstalling protobuf-4.23.4:\n",
      "      Successfully uninstalled protobuf-4.23.4\n",
      "  Attempting uninstall: keras\n",
      "    Found existing installation: keras 2.15.0\n",
      "    Uninstalling keras-2.15.0:\n",
      "      Successfully uninstalled keras-2.15.0\n",
      "  Attempting uninstall: grpcio\n",
      "    Found existing installation: grpcio 1.60.0\n",
      "    Uninstalling grpcio-1.60.0:\n",
      "      Successfully uninstalled grpcio-1.60.0\n",
      "  Attempting uninstall: gast\n",
      "    Found existing installation: gast 0.5.4\n",
      "    Uninstalling gast-0.5.4:\n",
      "      Successfully uninstalled gast-0.5.4\n",
      "  Attempting uninstall: google-auth-oauthlib\n",
      "    Found existing installation: google-auth-oauthlib 1.2.0\n",
      "    Uninstalling google-auth-oauthlib-1.2.0:\n",
      "      Successfully uninstalled google-auth-oauthlib-1.2.0\n",
      "  Attempting uninstall: tensorboard\n",
      "    Found existing installation: tensorboard 2.15.1\n",
      "    Uninstalling tensorboard-2.15.1:\n",
      "      Successfully uninstalled tensorboard-2.15.1\n",
      "  Attempting uninstall: tensorflow\n",
      "    Found existing installation: tensorflow 2.15.0\n",
      "    Uninstalling tensorflow-2.15.0:\n",
      "      Successfully uninstalled tensorflow-2.15.0\n",
      "Successfully installed gast-0.4.0 google-auth-oauthlib-0.4.6 grpcio-1.42.0 keras-2.11.0 protobuf-3.19.6 tensorboard-2.11.2 tensorboard-data-server-0.6.1 tensorflow-2.11.1 tensorflow-estimator-2.11.0\n"
     ]
    }
   ],
   "source": [
    "!pip install grpcio==1.42.0 tensorflow-serving-api==2.7.0"
   ]
  },
  {
   "cell_type": "code",
   "execution_count": 5,
   "metadata": {},
   "outputs": [
    {
     "name": "stdout",
     "output_type": "stream",
     "text": [
      "Requirement already satisfied: keras-image-helper in /home/minasonbol/.local/share/virtualenvs/capstone--2v8XePa/lib/python3.10/site-packages (0.0.1)\n",
      "Requirement already satisfied: numpy in /home/minasonbol/.local/share/virtualenvs/capstone--2v8XePa/lib/python3.10/site-packages (from keras-image-helper) (1.26.2)\n",
      "Requirement already satisfied: pillow in /home/minasonbol/.local/share/virtualenvs/capstone--2v8XePa/lib/python3.10/site-packages (from keras-image-helper) (10.1.0)\n"
     ]
    }
   ],
   "source": [
    "!pip install keras-image-helper"
   ]
  },
  {
   "cell_type": "code",
   "execution_count": 7,
   "metadata": {},
   "outputs": [],
   "source": [
    "import grpc\n",
    "\n",
    "import tensorflow as tf\n",
    "\n",
    "from tensorflow import keras \n",
    "from tensorflow_serving.apis import predict_pb2\n",
    "from tensorflow_serving.apis import prediction_service_pb2_grpc"
   ]
  },
  {
   "cell_type": "code",
   "execution_count": 11,
   "metadata": {},
   "outputs": [],
   "source": [
    "model = keras.models.load_model('./saved_models/ResNet_lr_0.10000000149011612_size_NA_dropout_0.5_01_0.953.h5')"
   ]
  },
  {
   "cell_type": "code",
   "execution_count": 12,
   "metadata": {},
   "outputs": [
    {
     "name": "stdout",
     "output_type": "stream",
     "text": [
      "INFO:tensorflow:Assets written to: /home/minasonbol/Documents/study/mleng-zoomcamp/capstone_01/capstone/code/location_classifier/assets\n"
     ]
    },
    {
     "name": "stderr",
     "output_type": "stream",
     "text": [
      "INFO:tensorflow:Assets written to: /home/minasonbol/Documents/study/mleng-zoomcamp/capstone_01/capstone/code/location_classifier/assets\n"
     ]
    }
   ],
   "source": [
    "tf.saved_model.save(model, './location_classifier')"
   ]
  },
  {
   "cell_type": "code",
   "execution_count": 15,
   "metadata": {},
   "outputs": [],
   "source": [
    "host = 'localhost:8500'\n",
    "\n",
    "channel = grpc.insecure_channel(host)\n",
    "\n",
    "stub = prediction_service_pb2_grpc.PredictionServiceStub(channel)"
   ]
  },
  {
   "cell_type": "code",
   "execution_count": 16,
   "metadata": {},
   "outputs": [],
   "source": [
    "from keras_image_helper import create_preprocessor"
   ]
  },
  {
   "cell_type": "code",
   "execution_count": 31,
   "metadata": {},
   "outputs": [],
   "source": [
    "preprocessor = create_preprocessor('xception', target_size=(299, 299))"
   ]
  },
  {
   "cell_type": "code",
   "execution_count": 32,
   "metadata": {},
   "outputs": [],
   "source": [
    "url = 'https://raw.githubusercontent.com/el-grudge/mleng-zoomcamp/main/capstone_01/cairo_frame1050.jpg'\n",
    "X = preprocessor.from_url(url)"
   ]
  },
  {
   "cell_type": "code",
   "execution_count": 33,
   "metadata": {},
   "outputs": [],
   "source": [
    "def np_to_protobuf(data):\n",
    "    return tf.make_tensor_proto(data, shape=data.shape)"
   ]
  },
  {
   "cell_type": "code",
   "execution_count": 37,
   "metadata": {},
   "outputs": [],
   "source": [
    "pb_request = predict_pb2.PredictRequest()\n",
    "\n",
    "pb_request.model_spec.name = 'location_classifier'\n",
    "pb_request.model_spec.signature_name = 'serving_default'\n",
    "\n",
    "pb_request.inputs['input_38'].CopyFrom(np_to_protobuf(X))"
   ]
  },
  {
   "cell_type": "code",
   "execution_count": 38,
   "metadata": {},
   "outputs": [],
   "source": [
    "pb_response = stub.Predict(pb_request, timeout=20.0)"
   ]
  },
  {
   "cell_type": "code",
   "execution_count": 43,
   "metadata": {},
   "outputs": [],
   "source": [
    "preds = pb_response.outputs['dense_18'].float_val"
   ]
  },
  {
   "cell_type": "code",
   "execution_count": 44,
   "metadata": {},
   "outputs": [],
   "source": [
    "classes = [\n",
    "    'cairo',\n",
    "    'moscow',\n",
    "    'pairs'\n",
    "]"
   ]
  },
  {
   "cell_type": "code",
   "execution_count": 46,
   "metadata": {},
   "outputs": [
    {
     "data": {
      "text/plain": [
       "{'cairo': -1.7488744258880615,\n",
       " 'moscow': -5.521413326263428,\n",
       " 'pairs': -30.53763198852539}"
      ]
     },
     "execution_count": 46,
     "metadata": {},
     "output_type": "execute_result"
    }
   ],
   "source": [
    "dict(zip(classes, preds))"
   ]
  },
  {
   "cell_type": "code",
   "execution_count": null,
   "metadata": {},
   "outputs": [],
   "source": []
  }
 ],
 "metadata": {
  "kernelspec": {
   "display_name": "capstone--2v8XePa",
   "language": "python",
   "name": "python3"
  },
  "language_info": {
   "codemirror_mode": {
    "name": "ipython",
    "version": 3
   },
   "file_extension": ".py",
   "mimetype": "text/x-python",
   "name": "python",
   "nbconvert_exporter": "python",
   "pygments_lexer": "ipython3",
   "version": "3.10.12"
  }
 },
 "nbformat": 4,
 "nbformat_minor": 2
}
