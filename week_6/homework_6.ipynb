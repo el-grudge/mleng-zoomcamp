{
 "cells": [
  {
   "cell_type": "code",
   "execution_count": 1,
   "metadata": {},
   "outputs": [
    {
     "data": {
      "text/html": [
       "<div>\n",
       "<style scoped>\n",
       "    .dataframe tbody tr th:only-of-type {\n",
       "        vertical-align: middle;\n",
       "    }\n",
       "\n",
       "    .dataframe tbody tr th {\n",
       "        vertical-align: top;\n",
       "    }\n",
       "\n",
       "    .dataframe thead th {\n",
       "        text-align: right;\n",
       "    }\n",
       "</style>\n",
       "<table border=\"1\" class=\"dataframe\">\n",
       "  <thead>\n",
       "    <tr style=\"text-align: right;\">\n",
       "      <th></th>\n",
       "      <th>longitude</th>\n",
       "      <th>latitude</th>\n",
       "      <th>housing_median_age</th>\n",
       "      <th>total_rooms</th>\n",
       "      <th>total_bedrooms</th>\n",
       "      <th>population</th>\n",
       "      <th>households</th>\n",
       "      <th>median_income</th>\n",
       "      <th>median_house_value</th>\n",
       "      <th>ocean_proximity</th>\n",
       "    </tr>\n",
       "  </thead>\n",
       "  <tbody>\n",
       "    <tr>\n",
       "      <th>0</th>\n",
       "      <td>-122.23</td>\n",
       "      <td>37.88</td>\n",
       "      <td>41.0</td>\n",
       "      <td>880.0</td>\n",
       "      <td>129.0</td>\n",
       "      <td>322.0</td>\n",
       "      <td>126.0</td>\n",
       "      <td>8.3252</td>\n",
       "      <td>452600.0</td>\n",
       "      <td>NEAR BAY</td>\n",
       "    </tr>\n",
       "    <tr>\n",
       "      <th>1</th>\n",
       "      <td>-122.22</td>\n",
       "      <td>37.86</td>\n",
       "      <td>21.0</td>\n",
       "      <td>7099.0</td>\n",
       "      <td>1106.0</td>\n",
       "      <td>2401.0</td>\n",
       "      <td>1138.0</td>\n",
       "      <td>8.3014</td>\n",
       "      <td>358500.0</td>\n",
       "      <td>NEAR BAY</td>\n",
       "    </tr>\n",
       "    <tr>\n",
       "      <th>2</th>\n",
       "      <td>-122.24</td>\n",
       "      <td>37.85</td>\n",
       "      <td>52.0</td>\n",
       "      <td>1467.0</td>\n",
       "      <td>190.0</td>\n",
       "      <td>496.0</td>\n",
       "      <td>177.0</td>\n",
       "      <td>7.2574</td>\n",
       "      <td>352100.0</td>\n",
       "      <td>NEAR BAY</td>\n",
       "    </tr>\n",
       "    <tr>\n",
       "      <th>3</th>\n",
       "      <td>-122.25</td>\n",
       "      <td>37.85</td>\n",
       "      <td>52.0</td>\n",
       "      <td>1274.0</td>\n",
       "      <td>235.0</td>\n",
       "      <td>558.0</td>\n",
       "      <td>219.0</td>\n",
       "      <td>5.6431</td>\n",
       "      <td>341300.0</td>\n",
       "      <td>NEAR BAY</td>\n",
       "    </tr>\n",
       "    <tr>\n",
       "      <th>4</th>\n",
       "      <td>-122.25</td>\n",
       "      <td>37.85</td>\n",
       "      <td>52.0</td>\n",
       "      <td>1627.0</td>\n",
       "      <td>280.0</td>\n",
       "      <td>565.0</td>\n",
       "      <td>259.0</td>\n",
       "      <td>3.8462</td>\n",
       "      <td>342200.0</td>\n",
       "      <td>NEAR BAY</td>\n",
       "    </tr>\n",
       "  </tbody>\n",
       "</table>\n",
       "</div>"
      ],
      "text/plain": [
       "   longitude  latitude  housing_median_age  total_rooms  total_bedrooms  \\\n",
       "0    -122.23     37.88                41.0        880.0           129.0   \n",
       "1    -122.22     37.86                21.0       7099.0          1106.0   \n",
       "2    -122.24     37.85                52.0       1467.0           190.0   \n",
       "3    -122.25     37.85                52.0       1274.0           235.0   \n",
       "4    -122.25     37.85                52.0       1627.0           280.0   \n",
       "\n",
       "   population  households  median_income  median_house_value ocean_proximity  \n",
       "0       322.0       126.0         8.3252            452600.0        NEAR BAY  \n",
       "1      2401.0      1138.0         8.3014            358500.0        NEAR BAY  \n",
       "2       496.0       177.0         7.2574            352100.0        NEAR BAY  \n",
       "3       558.0       219.0         5.6431            341300.0        NEAR BAY  \n",
       "4       565.0       259.0         3.8462            342200.0        NEAR BAY  "
      ]
     },
     "execution_count": 1,
     "metadata": {},
     "output_type": "execute_result"
    }
   ],
   "source": [
    "import pandas as pd\n",
    "import numpy as np\n",
    "\n",
    "# load the data\n",
    "file_url = \"https://raw.githubusercontent.com/alexeygrigorev/datasets/master/housing.csv\"\n",
    "df = pd.read_csv(file_url)\n",
    "df.head()"
   ]
  },
  {
   "cell_type": "code",
   "execution_count": 2,
   "metadata": {},
   "outputs": [],
   "source": [
    "# select relevant data\n",
    "relevant_proximities = ['<1H OCEAN','INLAND']\n",
    "df = df[df['ocean_proximity'].isin(relevant_proximities)]"
   ]
  },
  {
   "cell_type": "markdown",
   "metadata": {},
   "source": [
    "#### Preparation"
   ]
  },
  {
   "cell_type": "code",
   "execution_count": 3,
   "metadata": {},
   "outputs": [],
   "source": [
    "# Fill missing values with zeros.\n",
    "df.fillna(0, inplace=True)\n",
    "\n",
    "# Apply the log tranform to median_house_value.\n",
    "df['median_house_value'] = np.log1p(df.median_house_value)\n",
    "\n",
    "# Do train/validation/test split with 60%/20%/20% distribution.\n",
    "from sklearn.model_selection import train_test_split\n",
    "## shuffle the dataset using seed 42\n",
    "#n = len(df)\n",
    "#idx = np.arange(n)\n",
    "#np.random.seed(42)\n",
    "#np.random.shuffle(idx)\n",
    "#df_shuffled = df.iloc[idx]\n",
    "\n",
    "# Use the train_test_split function and set the random_state parameter to 1.\n",
    "# split the data into train/val/test with 60%/20%/20%\n",
    "# df_full, df_test = train_test_split(df_shuffled, test_size=np.round(len(df)*.2).astype(int), random_state=1)\n",
    "df_full, df_test = train_test_split(df, test_size=np.round(len(df)*.2).astype(int), random_state=1)\n",
    "df_train, df_val = train_test_split(df_full, test_size=np.round(len(df)*.2).astype(int), random_state=1)\n",
    "\n",
    "df_full = df_full.reset_index(drop=True)\n",
    "df_train = df_train.reset_index(drop=True)\n",
    "df_val = df_val.reset_index(drop=True)\n",
    "df_test = df_test.reset_index(drop=True)\n",
    "\n",
    "y_train = df_train['median_house_value'].values\n",
    "y_val = df_val['median_house_value'].values\n",
    "y_test = df_test['median_house_value'].values\n",
    "\n",
    "del df_train['median_house_value']\n",
    "del df_val['median_house_value']\n",
    "del df_test['median_house_value']"
   ]
  },
  {
   "cell_type": "code",
   "execution_count": 4,
   "metadata": {},
   "outputs": [],
   "source": [
    "# Use DictVectorizer(sparse=True) to turn the dataframes into matrices.\n",
    "from sklearn.feature_extraction import DictVectorizer"
   ]
  },
  {
   "cell_type": "code",
   "execution_count": 5,
   "metadata": {},
   "outputs": [
    {
     "data": {
      "text/html": [
       "<style>#sk-container-id-1 {color: black;}#sk-container-id-1 pre{padding: 0;}#sk-container-id-1 div.sk-toggleable {background-color: white;}#sk-container-id-1 label.sk-toggleable__label {cursor: pointer;display: block;width: 100%;margin-bottom: 0;padding: 0.3em;box-sizing: border-box;text-align: center;}#sk-container-id-1 label.sk-toggleable__label-arrow:before {content: \"▸\";float: left;margin-right: 0.25em;color: #696969;}#sk-container-id-1 label.sk-toggleable__label-arrow:hover:before {color: black;}#sk-container-id-1 div.sk-estimator:hover label.sk-toggleable__label-arrow:before {color: black;}#sk-container-id-1 div.sk-toggleable__content {max-height: 0;max-width: 0;overflow: hidden;text-align: left;background-color: #f0f8ff;}#sk-container-id-1 div.sk-toggleable__content pre {margin: 0.2em;color: black;border-radius: 0.25em;background-color: #f0f8ff;}#sk-container-id-1 input.sk-toggleable__control:checked~div.sk-toggleable__content {max-height: 200px;max-width: 100%;overflow: auto;}#sk-container-id-1 input.sk-toggleable__control:checked~label.sk-toggleable__label-arrow:before {content: \"▾\";}#sk-container-id-1 div.sk-estimator input.sk-toggleable__control:checked~label.sk-toggleable__label {background-color: #d4ebff;}#sk-container-id-1 div.sk-label input.sk-toggleable__control:checked~label.sk-toggleable__label {background-color: #d4ebff;}#sk-container-id-1 input.sk-hidden--visually {border: 0;clip: rect(1px 1px 1px 1px);clip: rect(1px, 1px, 1px, 1px);height: 1px;margin: -1px;overflow: hidden;padding: 0;position: absolute;width: 1px;}#sk-container-id-1 div.sk-estimator {font-family: monospace;background-color: #f0f8ff;border: 1px dotted black;border-radius: 0.25em;box-sizing: border-box;margin-bottom: 0.5em;}#sk-container-id-1 div.sk-estimator:hover {background-color: #d4ebff;}#sk-container-id-1 div.sk-parallel-item::after {content: \"\";width: 100%;border-bottom: 1px solid gray;flex-grow: 1;}#sk-container-id-1 div.sk-label:hover label.sk-toggleable__label {background-color: #d4ebff;}#sk-container-id-1 div.sk-serial::before {content: \"\";position: absolute;border-left: 1px solid gray;box-sizing: border-box;top: 0;bottom: 0;left: 50%;z-index: 0;}#sk-container-id-1 div.sk-serial {display: flex;flex-direction: column;align-items: center;background-color: white;padding-right: 0.2em;padding-left: 0.2em;position: relative;}#sk-container-id-1 div.sk-item {position: relative;z-index: 1;}#sk-container-id-1 div.sk-parallel {display: flex;align-items: stretch;justify-content: center;background-color: white;position: relative;}#sk-container-id-1 div.sk-item::before, #sk-container-id-1 div.sk-parallel-item::before {content: \"\";position: absolute;border-left: 1px solid gray;box-sizing: border-box;top: 0;bottom: 0;left: 50%;z-index: -1;}#sk-container-id-1 div.sk-parallel-item {display: flex;flex-direction: column;z-index: 1;position: relative;background-color: white;}#sk-container-id-1 div.sk-parallel-item:first-child::after {align-self: flex-end;width: 50%;}#sk-container-id-1 div.sk-parallel-item:last-child::after {align-self: flex-start;width: 50%;}#sk-container-id-1 div.sk-parallel-item:only-child::after {width: 0;}#sk-container-id-1 div.sk-dashed-wrapped {border: 1px dashed gray;margin: 0 0.4em 0.5em 0.4em;box-sizing: border-box;padding-bottom: 0.4em;background-color: white;}#sk-container-id-1 div.sk-label label {font-family: monospace;font-weight: bold;display: inline-block;line-height: 1.2em;}#sk-container-id-1 div.sk-label-container {text-align: center;}#sk-container-id-1 div.sk-container {/* jupyter's `normalize.less` sets `[hidden] { display: none; }` but bootstrap.min.css set `[hidden] { display: none !important; }` so we also need the `!important` here to be able to override the default hidden behavior on the sphinx rendered scikit-learn.org. See: https://github.com/scikit-learn/scikit-learn/issues/21755 */display: inline-block !important;position: relative;}#sk-container-id-1 div.sk-text-repr-fallback {display: none;}</style><div id=\"sk-container-id-1\" class=\"sk-top-container\"><div class=\"sk-text-repr-fallback\"><pre>DictVectorizer(sparse=False)</pre><b>In a Jupyter environment, please rerun this cell to show the HTML representation or trust the notebook. <br />On GitHub, the HTML representation is unable to render, please try loading this page with nbviewer.org.</b></div><div class=\"sk-container\" hidden><div class=\"sk-item\"><div class=\"sk-estimator sk-toggleable\"><input class=\"sk-toggleable__control sk-hidden--visually\" id=\"sk-estimator-id-1\" type=\"checkbox\" checked><label for=\"sk-estimator-id-1\" class=\"sk-toggleable__label sk-toggleable__label-arrow\">DictVectorizer</label><div class=\"sk-toggleable__content\"><pre>DictVectorizer(sparse=False)</pre></div></div></div></div></div>"
      ],
      "text/plain": [
       "DictVectorizer(sparse=False)"
      ]
     },
     "execution_count": 5,
     "metadata": {},
     "output_type": "execute_result"
    }
   ],
   "source": [
    "features = df_train.columns.to_list()\n",
    "df_train_dict=df_train[features].to_dict(orient='records')\n",
    "df_val_dict=df_val[features].to_dict(orient='records')\n",
    "df_test_dict=df_test[features].to_dict(orient='records')\n",
    "\n",
    "dv = DictVectorizer(sparse=False)\n",
    "dv.fit(df_train_dict)"
   ]
  },
  {
   "cell_type": "code",
   "execution_count": 6,
   "metadata": {},
   "outputs": [],
   "source": [
    "X_train = dv.transform(df_train_dict)\n",
    "X_val = dv.transform(df_val_dict)\n",
    "X_test = dv.transform(df_test_dict)"
   ]
  },
  {
   "cell_type": "markdown",
   "metadata": {},
   "source": [
    "### Question 1\n",
    "\n",
    "Let's train a decision tree regressor to predict the `median_house_value` variable.\n",
    "\n",
    "Train a model with `max_depth=1.`"
   ]
  },
  {
   "cell_type": "code",
   "execution_count": 7,
   "metadata": {},
   "outputs": [],
   "source": [
    "from sklearn.tree import DecisionTreeRegressor\n",
    "from sklearn.tree import export_text"
   ]
  },
  {
   "cell_type": "code",
   "execution_count": 8,
   "metadata": {},
   "outputs": [
    {
     "name": "stdout",
     "output_type": "stream",
     "text": [
      "|--- ocean_proximity=<1H OCEAN <= 0.50\n",
      "|   |--- value: [11.61]\n",
      "|--- ocean_proximity=<1H OCEAN >  0.50\n",
      "|   |--- value: [12.30]\n",
      "\n"
     ]
    }
   ],
   "source": [
    "# TRAINING THE REGRESSION MODEL:\n",
    "dt = DecisionTreeRegressor(max_depth=1)\n",
    "dt.fit(X_train, y_train)\n",
    "\n",
    "# INSPECTION:\n",
    "print(export_text(dt, feature_names=dv.feature_names_))"
   ]
  },
  {
   "cell_type": "code",
   "execution_count": 9,
   "metadata": {},
   "outputs": [],
   "source": [
    "# when using shuffled data\n",
    "## TRAINING THE REGRESSION MODEL:\n",
    "#dt = DecisionTreeRegressor(max_depth=1)\n",
    "#dt.fit(X_train, y_train)\n",
    "#\n",
    "## INSPECTION:\n",
    "#print(export_text(dt, feature_names=dv.feature_names_))"
   ]
  },
  {
   "cell_type": "markdown",
   "metadata": {},
   "source": [
    "### Question 2\n",
    "\n",
    "Train a random forest model with these parameters:\n",
    "\n",
    "* `n_estimators=10`\n",
    "* `random_state=1`\n",
    "* `n_jobs=-1 (optional-to make training faster)`"
   ]
  },
  {
   "cell_type": "code",
   "execution_count": 10,
   "metadata": {},
   "outputs": [],
   "source": [
    "from sklearn.ensemble import RandomForestRegressor\n",
    "from sklearn.metrics import mean_squared_error"
   ]
  },
  {
   "cell_type": "code",
   "execution_count": 11,
   "metadata": {},
   "outputs": [
    {
     "data": {
      "text/html": [
       "<style>#sk-container-id-2 {color: black;}#sk-container-id-2 pre{padding: 0;}#sk-container-id-2 div.sk-toggleable {background-color: white;}#sk-container-id-2 label.sk-toggleable__label {cursor: pointer;display: block;width: 100%;margin-bottom: 0;padding: 0.3em;box-sizing: border-box;text-align: center;}#sk-container-id-2 label.sk-toggleable__label-arrow:before {content: \"▸\";float: left;margin-right: 0.25em;color: #696969;}#sk-container-id-2 label.sk-toggleable__label-arrow:hover:before {color: black;}#sk-container-id-2 div.sk-estimator:hover label.sk-toggleable__label-arrow:before {color: black;}#sk-container-id-2 div.sk-toggleable__content {max-height: 0;max-width: 0;overflow: hidden;text-align: left;background-color: #f0f8ff;}#sk-container-id-2 div.sk-toggleable__content pre {margin: 0.2em;color: black;border-radius: 0.25em;background-color: #f0f8ff;}#sk-container-id-2 input.sk-toggleable__control:checked~div.sk-toggleable__content {max-height: 200px;max-width: 100%;overflow: auto;}#sk-container-id-2 input.sk-toggleable__control:checked~label.sk-toggleable__label-arrow:before {content: \"▾\";}#sk-container-id-2 div.sk-estimator input.sk-toggleable__control:checked~label.sk-toggleable__label {background-color: #d4ebff;}#sk-container-id-2 div.sk-label input.sk-toggleable__control:checked~label.sk-toggleable__label {background-color: #d4ebff;}#sk-container-id-2 input.sk-hidden--visually {border: 0;clip: rect(1px 1px 1px 1px);clip: rect(1px, 1px, 1px, 1px);height: 1px;margin: -1px;overflow: hidden;padding: 0;position: absolute;width: 1px;}#sk-container-id-2 div.sk-estimator {font-family: monospace;background-color: #f0f8ff;border: 1px dotted black;border-radius: 0.25em;box-sizing: border-box;margin-bottom: 0.5em;}#sk-container-id-2 div.sk-estimator:hover {background-color: #d4ebff;}#sk-container-id-2 div.sk-parallel-item::after {content: \"\";width: 100%;border-bottom: 1px solid gray;flex-grow: 1;}#sk-container-id-2 div.sk-label:hover label.sk-toggleable__label {background-color: #d4ebff;}#sk-container-id-2 div.sk-serial::before {content: \"\";position: absolute;border-left: 1px solid gray;box-sizing: border-box;top: 0;bottom: 0;left: 50%;z-index: 0;}#sk-container-id-2 div.sk-serial {display: flex;flex-direction: column;align-items: center;background-color: white;padding-right: 0.2em;padding-left: 0.2em;position: relative;}#sk-container-id-2 div.sk-item {position: relative;z-index: 1;}#sk-container-id-2 div.sk-parallel {display: flex;align-items: stretch;justify-content: center;background-color: white;position: relative;}#sk-container-id-2 div.sk-item::before, #sk-container-id-2 div.sk-parallel-item::before {content: \"\";position: absolute;border-left: 1px solid gray;box-sizing: border-box;top: 0;bottom: 0;left: 50%;z-index: -1;}#sk-container-id-2 div.sk-parallel-item {display: flex;flex-direction: column;z-index: 1;position: relative;background-color: white;}#sk-container-id-2 div.sk-parallel-item:first-child::after {align-self: flex-end;width: 50%;}#sk-container-id-2 div.sk-parallel-item:last-child::after {align-self: flex-start;width: 50%;}#sk-container-id-2 div.sk-parallel-item:only-child::after {width: 0;}#sk-container-id-2 div.sk-dashed-wrapped {border: 1px dashed gray;margin: 0 0.4em 0.5em 0.4em;box-sizing: border-box;padding-bottom: 0.4em;background-color: white;}#sk-container-id-2 div.sk-label label {font-family: monospace;font-weight: bold;display: inline-block;line-height: 1.2em;}#sk-container-id-2 div.sk-label-container {text-align: center;}#sk-container-id-2 div.sk-container {/* jupyter's `normalize.less` sets `[hidden] { display: none; }` but bootstrap.min.css set `[hidden] { display: none !important; }` so we also need the `!important` here to be able to override the default hidden behavior on the sphinx rendered scikit-learn.org. See: https://github.com/scikit-learn/scikit-learn/issues/21755 */display: inline-block !important;position: relative;}#sk-container-id-2 div.sk-text-repr-fallback {display: none;}</style><div id=\"sk-container-id-2\" class=\"sk-top-container\"><div class=\"sk-text-repr-fallback\"><pre>RandomForestRegressor(n_estimators=10, n_jobs=-1, random_state=1)</pre><b>In a Jupyter environment, please rerun this cell to show the HTML representation or trust the notebook. <br />On GitHub, the HTML representation is unable to render, please try loading this page with nbviewer.org.</b></div><div class=\"sk-container\" hidden><div class=\"sk-item\"><div class=\"sk-estimator sk-toggleable\"><input class=\"sk-toggleable__control sk-hidden--visually\" id=\"sk-estimator-id-2\" type=\"checkbox\" checked><label for=\"sk-estimator-id-2\" class=\"sk-toggleable__label sk-toggleable__label-arrow\">RandomForestRegressor</label><div class=\"sk-toggleable__content\"><pre>RandomForestRegressor(n_estimators=10, n_jobs=-1, random_state=1)</pre></div></div></div></div></div>"
      ],
      "text/plain": [
       "RandomForestRegressor(n_estimators=10, n_jobs=-1, random_state=1)"
      ]
     },
     "execution_count": 11,
     "metadata": {},
     "output_type": "execute_result"
    }
   ],
   "source": [
    "# TRAINING RANDOM FOREST MODEL:\n",
    "rf = RandomForestRegressor(n_estimators=10, random_state=1, n_jobs=-1)\n",
    "rf.fit(X_train, y_train)"
   ]
  },
  {
   "cell_type": "code",
   "execution_count": 12,
   "metadata": {},
   "outputs": [
    {
     "data": {
      "text/plain": [
       "0.2429554248133476"
      ]
     },
     "execution_count": 12,
     "metadata": {},
     "output_type": "execute_result"
    }
   ],
   "source": [
    "# CALCULATING MEAN SQUARED ERROR:\n",
    "y_pred = rf.predict(X_val)\n",
    "np.sqrt(mean_squared_error(y_val, y_pred))"
   ]
  },
  {
   "cell_type": "code",
   "execution_count": 13,
   "metadata": {},
   "outputs": [],
   "source": [
    "# when using shuffled data\n",
    "## CALCULATING MEAN SQUARED ERROR:\n",
    "#y_pred = rf.predict(X_val)\n",
    "#np.sqrt(mean_squared_error(y_val, y_pred))"
   ]
  },
  {
   "cell_type": "markdown",
   "metadata": {},
   "source": [
    "### Question 3\n",
    "\n",
    "Now let's experiment with the `n_estimators` parameter\n",
    "\n",
    "* Try different values of this parameter from 10 to 200 with step 10.\n",
    "* Set `random_state` to `1`.\n",
    "* Evaluate the model on the validation dataset."
   ]
  },
  {
   "cell_type": "code",
   "execution_count": 14,
   "metadata": {},
   "outputs": [
    {
     "name": "stderr",
     "output_type": "stream",
     "text": [
      "/home/minasonbol/Documents/study/mleng-zoomcamp/env/lib/python3.10/site-packages/tqdm/auto.py:21: TqdmWarning: IProgress not found. Please update jupyter and ipywidgets. See https://ipywidgets.readthedocs.io/en/stable/user_install.html\n",
      "  from .autonotebook import tqdm as notebook_tqdm\n"
     ]
    }
   ],
   "source": [
    "from tqdm.auto import tqdm"
   ]
  },
  {
   "cell_type": "code",
   "execution_count": 15,
   "metadata": {},
   "outputs": [
    {
     "name": "stderr",
     "output_type": "stream",
     "text": [
      "100%|██████████| 20/20 [01:15<00:00,  3.80s/it]\n"
     ]
    }
   ],
   "source": [
    "#@ TRAINING THE RANDOM FOREST MODEL:\n",
    "scores = []\n",
    "\n",
    "for n in tqdm(range(10, 201, 10)):\n",
    "    rf = RandomForestRegressor(n_estimators=n, random_state=1, n_jobs=-1)\n",
    "    rf.fit(X_train, y_train)\n",
    "    \n",
    "    y_pred = rf.predict(X_val)\n",
    "    score = np.sqrt(mean_squared_error(y_val, y_pred))\n",
    "    \n",
    "    scores.append((n, score))\n",
    "\n",
    "df_scores = pd.DataFrame(scores, columns=['n_estimators', 'rmse'])"
   ]
  },
  {
   "cell_type": "code",
   "execution_count": 16,
   "metadata": {},
   "outputs": [
    {
     "name": "stdout",
     "output_type": "stream",
     "text": [
      "After 200 estimators, RMSE stops improving.\n"
     ]
    }
   ],
   "source": [
    "best_rmse = float(\"inf\")\n",
    "best_n_estimators = 0\n",
    "counter = 0\n",
    "\n",
    "# for index, rmse in enumerate(scores):\n",
    "for n_rmse in scores:\n",
    "    # Checking if RMSE stops improving\n",
    "    if n_rmse[1] < best_rmse:\n",
    "        best_rmse = n_rmse[1]\n",
    "        best_n_estimators = n_rmse[0]\n",
    "    else:\n",
    "        counter += 1\n",
    "        if counter == 5:  # If the RMSE hasn't improved for 5 iterations, break the loop\n",
    "            break\n",
    "\n",
    "print(f\"After {best_n_estimators} estimators, RMSE stops improving.\")"
   ]
  },
  {
   "cell_type": "code",
   "execution_count": 17,
   "metadata": {},
   "outputs": [],
   "source": [
    "import matplotlib.pyplot as plt"
   ]
  },
  {
   "cell_type": "code",
   "execution_count": 18,
   "metadata": {},
   "outputs": [
    {
     "data": {
      "image/png": "[encoded data removed]",
      "text/plain": [
       "<Figure size 640x480 with 1 Axes>"
      ]
     },
     "metadata": {},
     "output_type": "display_data"
    }
   ],
   "source": [
    "# INSPECTING THE RMSE SCORES:\n",
    "plt.plot(df_scores.n_estimators, df_scores.rmse.round(3))\n",
    "plt.show()"
   ]
  },
  {
   "cell_type": "code",
   "execution_count": 19,
   "metadata": {},
   "outputs": [],
   "source": [
    "## when using shuffled data\n",
    "#best_rmse = float(\"inf\")\n",
    "#best_n_estimators = 0\n",
    "#counter = 0\n",
    "#\n",
    "## for index, rmse in enumerate(scores):\n",
    "#for n_rmse in scores:\n",
    "#    # Checking if RMSE stops improving\n",
    "#    if n_rmse[1] < best_rmse:\n",
    "#        best_rmse = n_rmse[1]\n",
    "#        best_n_estimators = n_rmse[0]\n",
    "#    else:\n",
    "#        counter += 1\n",
    "#        if counter == 5:  # If the RMSE hasn't improved for 5 iterations, break the loop\n",
    "#            break\n",
    "#\n",
    "#print(f\"After {best_n_estimators} estimators, RMSE stops improving.\")"
   ]
  },
  {
   "cell_type": "code",
   "execution_count": 20,
   "metadata": {},
   "outputs": [],
   "source": [
    "## INSPECTING THE RMSE SCORES:\n",
    "#plt.plot(df_scores.n_estimators, df_scores.rmse.round(3))\n",
    "#plt.show()"
   ]
  },
  {
   "cell_type": "markdown",
   "metadata": {},
   "source": [
    "### Question 4\n",
    "\n",
    "Let's select the best `max_depth`:\n",
    "\n",
    "* Try different values of `max_depth`: `[10, 15, 20, 25]`\n",
    "* For each of these values, try different values of `n_estimators` from 10 till 200 (with step 10)\n",
    "* Fix the random seed: `random_state=1`"
   ]
  },
  {
   "cell_type": "code",
   "execution_count": 21,
   "metadata": {},
   "outputs": [
    {
     "name": "stderr",
     "output_type": "stream",
     "text": [
      "  0%|          | 0/4 [00:00<?, ?it/s]"
     ]
    },
    {
     "name": "stderr",
     "output_type": "stream",
     "text": [
      "100%|██████████| 20/20 [00:05<00:00,  3.46it/s]\n",
      "100%|██████████| 20/20 [00:07<00:00,  2.70it/s]\n",
      "100%|██████████| 20/20 [00:08<00:00,  2.29it/s]\n",
      "100%|██████████| 20/20 [00:09<00:00,  2.17it/s]\n",
      "100%|██████████| 4/4 [00:31<00:00,  7.80s/it]\n"
     ]
    }
   ],
   "source": [
    "# TRAINING THE MODEL WITH DEPTH:\n",
    "scores = []\n",
    "\n",
    "for d in tqdm([10, 15, 20, 25]):\n",
    "    rf = RandomForestRegressor(n_estimators=0,\n",
    "                               max_depth=d,\n",
    "                               random_state=1, n_jobs=-1,\n",
    "                               warm_start=True)\n",
    "\n",
    "    for n in tqdm(range(10, 201, 10)):\n",
    "        rf.n_estimators = n\n",
    "        rf.fit(X_train, y_train)\n",
    "\n",
    "        y_pred = rf.predict(X_val)\n",
    "        score = np.sqrt(mean_squared_error(y_val, y_pred))\n",
    "\n",
    "        scores.append((d, n, score))\n",
    "\n",
    "columns = ['max_depth', 'n_estimators', 'rmse']\n",
    "df_scores = pd.DataFrame(scores, columns=columns)"
   ]
  },
  {
   "cell_type": "code",
   "execution_count": 22,
   "metadata": {},
   "outputs": [
    {
     "data": {
      "image/png": "[encoded data removed]",
      "text/plain": [
       "<Figure size 640x480 with 1 Axes>"
      ]
     },
     "metadata": {},
     "output_type": "display_data"
    }
   ],
   "source": [
    "# PLOTTING THE GRAPH:\n",
    "for d in [10, 15, 20, 25]:\n",
    "    df_subset = df_scores[df_scores.max_depth == d]\n",
    "    plt.plot(df_subset.n_estimators, df_subset.rmse, label=d)\n",
    "\n",
    "plt.legend()\n",
    "plt.show()"
   ]
  },
  {
   "cell_type": "code",
   "execution_count": null,
   "metadata": {},
   "outputs": [],
   "source": [
    "## when using shuffled data\n",
    "## PLOTTING THE GRAPH:\n",
    "#for d in [10, 15, 20, 25]:\n",
    "#    df_subset = df_scores[df_scores.max_depth == d]\n",
    "#    plt.plot(df_subset.n_estimators, df_subset.rmse, label=d)\n",
    "#\n",
    "#plt.legend()\n",
    "#plt.show()"
   ]
  },
  {
   "cell_type": "markdown",
   "metadata": {},
   "source": [
    "### Question 5\n",
    "\n",
    "We can extract feature importance information from tree-based models.\n",
    "\n",
    "At each step of the decision tree learning algorithm, it finds the best split. When doing it, we can calculate \"gain\" - the reduction in impurity before and after the split. This gain is quite useful in understanding what are the important features for tree-based models.\n",
    "\n",
    "In Scikit-Learn, tree-based models contain this information in the `feature_importances_` field.\n",
    "\n",
    "For this homework question, we'll find the most important feature:\n",
    "\n",
    "* Train the model with these parameters:\n",
    "  * `n_estimators=10`,  \n",
    "  * `max_depth=20`,  \n",
    "  * `random_state=1`,  \n",
    "  * `n_jobs=-1` (optional)\n",
    "* Get the feature importance information from this model\n"
   ]
  },
  {
   "cell_type": "code",
   "execution_count": 23,
   "metadata": {},
   "outputs": [
    {
     "data": {
      "text/plain": [
       "array([0.0157157 , 0.03298617, 0.10274898, 0.0817063 , 0.33557258,\n",
       "       0.18152397, 0.18252986, 0.0266511 , 0.01735778, 0.02320755])"
      ]
     },
     "execution_count": 23,
     "metadata": {},
     "output_type": "execute_result"
    }
   ],
   "source": [
    "# TRAINING RANDOM FOREST MODEL:\n",
    "rf = RandomForestRegressor(n_estimators=10, max_depth=20, random_state=1, n_jobs=-1)\n",
    "rf.fit(X_train, y_train)\n",
    "\n",
    "\n",
    "# GET FEATURE IMPORTANCE INFORMATION\n",
    "rf.feature_importances_"
   ]
  },
  {
   "cell_type": "code",
   "execution_count": 40,
   "metadata": {},
   "outputs": [
    {
     "data": {
      "text/plain": [
       "[('median_income', 0.33557258143991675),\n",
       " ('ocean_proximity=INLAND', 0.18252985653883133),\n",
       " ('ocean_proximity=<1H OCEAN', 0.18152397342639143)]"
      ]
     },
     "execution_count": 40,
     "metadata": {},
     "output_type": "execute_result"
    }
   ],
   "source": [
    "sorted([z for z in zip(dv.feature_names_, rf.feature_importances_)], key=lambda x: x[1], reverse=True)[:3]"
   ]
  },
  {
   "cell_type": "code",
   "execution_count": 41,
   "metadata": {},
   "outputs": [],
   "source": [
    "## when using shuffled data\n",
    "#sorted([z for z in zip(dv.feature_names_, rf.feature_importances_)], key=lambda x: x[1], reverse=True)[:3]"
   ]
  },
  {
   "cell_type": "markdown",
   "metadata": {},
   "source": [
    "### Question 6\n",
    "\n",
    "Now let's train an XGBoost model! For this question, we'll tune the eta parameter:\n",
    "\n",
    "* Install XGBoost\n",
    "* Create DMatrix for train and validation\n",
    "* Create a watchlist\n",
    "* Train a model with these parameters for 100 rounds:\n",
    "\n",
    "```\n",
    "xgb_params = {\n",
    "    'eta': 0.3, \n",
    "    'max_depth': 6,\n",
    "    'min_child_weight': 1,\n",
    "    \n",
    "    'objective': 'reg:squarederror',\n",
    "    'nthread': 8,\n",
    "    \n",
    "    'seed': 1,\n",
    "    'verbosity': 1,\n",
    "}\n",
    "```\n",
    "\n",
    "Now change eta from 0.3 to 0.1."
   ]
  },
  {
   "cell_type": "code",
   "execution_count": 42,
   "metadata": {},
   "outputs": [],
   "source": [
    "import xgboost as xgb\n",
    "import re"
   ]
  },
  {
   "cell_type": "code",
   "execution_count": 59,
   "metadata": {},
   "outputs": [],
   "source": [
    "# CREATING THE DMARTIX:\n",
    "features = dv.feature_names_\n",
    "\n",
    "regex = re.compile(r\"<\", re.IGNORECASE)\n",
    "features = [regex.sub(\"_\", col) if any(x in str(col) for x in set(('[', ']', '<'))) else col for col in features]\n",
    "\n",
    "dtrain = xgb.DMatrix(X_train, label=y_train, feature_names=features)\n",
    "dval = xgb.DMatrix(X_val, label=y_val, feature_names=features)"
   ]
  },
  {
   "cell_type": "code",
   "execution_count": 60,
   "metadata": {},
   "outputs": [],
   "source": []
  },
  {
   "cell_type": "code",
   "execution_count": 104,
   "metadata": {},
   "outputs": [
    {
     "name": "stdout",
     "output_type": "stream",
     "text": [
      "[0]\ttrain-rmse:0.44211\tval-rmse:0.44440\n",
      "[5]\ttrain-rmse:0.25075\tval-rmse:0.26960\n"
     ]
    },
    {
     "name": "stdout",
     "output_type": "stream",
     "text": [
      "[10]\ttrain-rmse:0.21399\tval-rmse:0.24443\n",
      "[15]\ttrain-rmse:0.19784\tval-rmse:0.23728\n",
      "[20]\ttrain-rmse:0.18584\tval-rmse:0.23262\n",
      "[25]\ttrain-rmse:0.17781\tval-rmse:0.23052\n",
      "[30]\ttrain-rmse:0.17111\tval-rmse:0.22869\n",
      "[35]\ttrain-rmse:0.16496\tval-rmse:0.22844\n",
      "[40]\ttrain-rmse:0.15783\tval-rmse:0.22726\n",
      "[45]\ttrain-rmse:0.15315\tval-rmse:0.22612\n",
      "[50]\ttrain-rmse:0.14718\tval-rmse:0.22458\n",
      "[55]\ttrain-rmse:0.14124\tval-rmse:0.22299\n",
      "[60]\ttrain-rmse:0.13718\tval-rmse:0.22219\n",
      "[65]\ttrain-rmse:0.13435\tval-rmse:0.22212\n",
      "[70]\ttrain-rmse:0.12976\tval-rmse:0.22170\n",
      "[75]\ttrain-rmse:0.12677\tval-rmse:0.22131\n",
      "[80]\ttrain-rmse:0.12392\tval-rmse:0.22103\n",
      "[85]\ttrain-rmse:0.12031\tval-rmse:0.22119\n",
      "[90]\ttrain-rmse:0.11614\tval-rmse:0.22097\n",
      "[95]\ttrain-rmse:0.11299\tval-rmse:0.22089\n",
      "[99]\ttrain-rmse:0.11074\tval-rmse:0.22120\n",
      "[0]\ttrain-rmse:0.44211\tval-rmse:0.44440\n",
      "[5]\ttrain-rmse:0.25075\tval-rmse:0.26960\n",
      "[10]\ttrain-rmse:0.21399\tval-rmse:0.24443\n",
      "[15]\ttrain-rmse:0.19784\tval-rmse:0.23728\n",
      "[20]\ttrain-rmse:0.18584\tval-rmse:0.23262\n",
      "[25]\ttrain-rmse:0.17781\tval-rmse:0.23052\n",
      "[30]\ttrain-rmse:0.17111\tval-rmse:0.22869\n",
      "[35]\ttrain-rmse:0.16496\tval-rmse:0.22844\n",
      "[40]\ttrain-rmse:0.15783\tval-rmse:0.22726\n",
      "[45]\ttrain-rmse:0.15315\tval-rmse:0.22612\n",
      "[50]\ttrain-rmse:0.14718\tval-rmse:0.22458\n",
      "[55]\ttrain-rmse:0.14124\tval-rmse:0.22299\n",
      "[60]\ttrain-rmse:0.13718\tval-rmse:0.22219\n",
      "[65]\ttrain-rmse:0.13435\tval-rmse:0.22212\n",
      "[70]\ttrain-rmse:0.12976\tval-rmse:0.22170\n",
      "[75]\ttrain-rmse:0.12677\tval-rmse:0.22131\n",
      "[80]\ttrain-rmse:0.12392\tval-rmse:0.22103\n",
      "[85]\ttrain-rmse:0.12031\tval-rmse:0.22119\n",
      "[90]\ttrain-rmse:0.11614\tval-rmse:0.22097\n",
      "[95]\ttrain-rmse:0.11299\tval-rmse:0.22089\n",
      "[99]\ttrain-rmse:0.11074\tval-rmse:0.22120\n"
     ]
    }
   ],
   "source": [
    "# INITIALIZATION:\n",
    "watchlist = [(dtrain, 'train'), (dval, 'val')]\n",
    "scores = {}\n",
    "iters = list(np.arange(0,100))\n",
    "\n",
    "# TRAIN AND SAVE RESULTS\n",
    "for eta in [0.3, 0.1]:\n",
    "    xgb_params = {\n",
    "        'eta': 0.3, \n",
    "        'max_depth': 6,\n",
    "        'min_child_weight': 1,\n",
    "\n",
    "        'objective': 'reg:squarederror',\n",
    "        'nthread': 8,\n",
    "\n",
    "        'seed': 1,\n",
    "        'verbosity': 1,\n",
    "        }\n",
    "        \n",
    "    evals_result = {}\n",
    "    model = xgb.train(xgb_params, dtrain, num_boost_round=100,\n",
    "                  verbose_eval=5, evals=watchlist, evals_result=evals_result)\n",
    "    scores[eta] = evals_result['val']['rmse']"
   ]
  },
  {
   "cell_type": "code",
   "execution_count": 107,
   "metadata": {},
   "outputs": [
    {
     "data": {
      "text/plain": [
       "[0.4443987578383685,\n",
       " 0.36878256969463163,\n",
       " 0.32273596046702996,\n",
       " 0.2949876000803516,\n",
       " 0.2770686574852469,\n",
       " 0.26960221802428863,\n",
       " 0.2599897372350027,\n",
       " 0.25438780259897187,\n",
       " 0.24927079608467492,\n",
       " 0.24765281517651366,\n",
       " 0.244431895281874,\n",
       " 0.24241422077085634,\n",
       " 0.24023590026153052,\n",
       " 0.2388002934003315,\n",
       " 0.2379709300704143,\n",
       " 0.23727964196540596,\n",
       " 0.23665608430080945,\n",
       " 0.23518226968770517,\n",
       " 0.2339529450976349,\n",
       " 0.23324672906987043,\n",
       " 0.23261950014270474,\n",
       " 0.23104471238067165,\n",
       " 0.23137120626569155,\n",
       " 0.23125856379938176,\n",
       " 0.23096612595374244,\n",
       " 0.23052482857332549,\n",
       " 0.2301795213381888,\n",
       " 0.2293488144124325,\n",
       " 0.22909164912999005,\n",
       " 0.22885501559518356,\n",
       " 0.22868788809260798,\n",
       " 0.22835924021822326,\n",
       " 0.22819320808541083,\n",
       " 0.2287335999663407,\n",
       " 0.22850520457589907,\n",
       " 0.2284399104133846,\n",
       " 0.22790658987853787,\n",
       " 0.22781481418168678,\n",
       " 0.22786610136790605,\n",
       " 0.22748241300189032,\n",
       " 0.2272579691103854,\n",
       " 0.22710412035289407,\n",
       " 0.2268979567514915,\n",
       " 0.22639324738398833,\n",
       " 0.22619335154125966,\n",
       " 0.2261179916665803,\n",
       " 0.22596793151829414,\n",
       " 0.2251015088272878,\n",
       " 0.22508142889652955,\n",
       " 0.22462720852694193,\n",
       " 0.22457800913403964,\n",
       " 0.22432920237829998,\n",
       " 0.22420143946387328,\n",
       " 0.22404547495862756,\n",
       " 0.22383371255166448,\n",
       " 0.22298618730312997,\n",
       " 0.2227935207074807,\n",
       " 0.22263694187649377,\n",
       " 0.2223968085217463,\n",
       " 0.22236860171970516,\n",
       " 0.22219310430399355,\n",
       " 0.22183684779352014,\n",
       " 0.22200733737489295,\n",
       " 0.22201741627135393,\n",
       " 0.22213373239701428,\n",
       " 0.22211929458348081,\n",
       " 0.22205008441698673,\n",
       " 0.22235025180688942,\n",
       " 0.22241739865164387,\n",
       " 0.22229683753745227,\n",
       " 0.2216959252282708,\n",
       " 0.22161407086731036,\n",
       " 0.22184328147417992,\n",
       " 0.2214732553143263,\n",
       " 0.2215338073335431,\n",
       " 0.22131215553465133,\n",
       " 0.22126623966872197,\n",
       " 0.22126484631814577,\n",
       " 0.22096471471925186,\n",
       " 0.2210260442901748,\n",
       " 0.22103138579291237,\n",
       " 0.221070084162225,\n",
       " 0.22109470118045593,\n",
       " 0.22108621576503434,\n",
       " 0.22118831502196593,\n",
       " 0.22119145826093808,\n",
       " 0.22129573118188672,\n",
       " 0.2213492028926294,\n",
       " 0.22123239265913675,\n",
       " 0.22105677605515037,\n",
       " 0.2209727469755571,\n",
       " 0.22104441893962748,\n",
       " 0.2210108073269148,\n",
       " 0.2210587557014351,\n",
       " 0.22090574064302781,\n",
       " 0.2208947739936496,\n",
       " 0.22116233141207903,\n",
       " 0.22125153397092084,\n",
       " 0.22124330868991912,\n",
       " 0.22120167723175732]"
      ]
     },
     "execution_count": 107,
     "metadata": {},
     "output_type": "execute_result"
    }
   ],
   "source": [
    "plt.plot()"
   ]
  },
  {
   "cell_type": "code",
   "execution_count": 94,
   "metadata": {},
   "outputs": [
    {
     "name": "stdout",
     "output_type": "stream",
     "text": [
      "train scores:\n",
      "rmse: [0.44210750607641913, 0.36306133936105245, 0.3148471666300576, 0.2831653321847578, 0.2621820467268595, 0.25074883675522475, 0.23881312600328358, 0.2294195964157866, 0.22359806806355065, 0.21899595675534694, 0.21398959804239706, 0.20937125753398717, 0.2052945659794787, 0.2016124048589576, 0.19909100718382672, 0.19784112425745276, 0.1955919851905064, 0.19314818578115894, 0.19015448259065776, 0.18860999045249532, 0.18583831708721843, 0.18334264508161202, 0.18129613280305826, 0.17991589495745478, 0.17910664351033398, 0.17780554758976638, 0.17687674390749758, 0.17483100432405946, 0.1735271418526011, 0.17233208402436934, 0.17111494327122753, 0.16898081491657552, 0.16807790354199467, 0.16666053215156607, 0.16557502301880245, 0.16495975476361047, 0.16314010197190987, 0.1621498461088874, 0.16079214432822106, 0.1591145448277679, 0.15783256805870932, 0.15675764058251285, 0.15582408113589102, 0.15485944521954093, 0.15397017148497116, 0.1531519774364613, 0.15261564125212193, 0.15062654357241417, 0.14984527119577612, 0.1484268370980593, 0.14717581063521024, 0.14619342731238835, 0.14509076334216442, 0.14423422218008605, 0.14258663414878617, 0.14123794562470696, 0.1401042200518178, 0.13911688814007156, 0.13838383002556318, 0.13807374674561482, 0.13718461532041945, 0.13659493576849674, 0.13616415699024606, 0.13556731062939373, 0.13491357741181254, 0.1343521604130053, 0.13333874666121082, 0.13248122820595537, 0.13179469084005108, 0.1309501234375089, 0.12975775972419726, 0.1290620543330485, 0.12824672171549073, 0.1277922479318348, 0.1272486139632551, 0.12676936323960572, 0.12626306218959293, 0.12592632558155867, 0.12508018172338167, 0.12441566273902022, 0.12391952179229894, 0.12331816191415738, 0.12300495545386693, 0.1221110278837644, 0.1213472050059285, 0.12031440599375531, 0.1196431756066288, 0.11857429512384313, 0.11745687185001122, 0.11668180121116109, 0.11614249912326698, 0.11543262864652826, 0.1147957571058082, 0.11426362137561022, 0.11373892941089181, 0.11298655073014954, 0.11240982963766791, 0.11199376851647605, 0.11115788895014787, 0.11074046389185054]\n",
      "\n",
      "\n",
      "val scores:\n",
      "rmse: [0.4443987578383685, 0.36878256969463163, 0.32273596046702996, 0.2949876000803516, 0.2770686574852469, 0.26960221802428863, 0.2599897372350027, 0.25438780259897187, 0.24927079608467492, 0.24765281517651366, 0.244431895281874, 0.24241422077085634, 0.24023590026153052, 0.2388002934003315, 0.2379709300704143, 0.23727964196540596, 0.23665608430080945, 0.23518226968770517, 0.2339529450976349, 0.23324672906987043, 0.23261950014270474, 0.23104471238067165, 0.23137120626569155, 0.23125856379938176, 0.23096612595374244, 0.23052482857332549, 0.2301795213381888, 0.2293488144124325, 0.22909164912999005, 0.22885501559518356, 0.22868788809260798, 0.22835924021822326, 0.22819320808541083, 0.2287335999663407, 0.22850520457589907, 0.2284399104133846, 0.22790658987853787, 0.22781481418168678, 0.22786610136790605, 0.22748241300189032, 0.2272579691103854, 0.22710412035289407, 0.2268979567514915, 0.22639324738398833, 0.22619335154125966, 0.2261179916665803, 0.22596793151829414, 0.2251015088272878, 0.22508142889652955, 0.22462720852694193, 0.22457800913403964, 0.22432920237829998, 0.22420143946387328, 0.22404547495862756, 0.22383371255166448, 0.22298618730312997, 0.2227935207074807, 0.22263694187649377, 0.2223968085217463, 0.22236860171970516, 0.22219310430399355, 0.22183684779352014, 0.22200733737489295, 0.22201741627135393, 0.22213373239701428, 0.22211929458348081, 0.22205008441698673, 0.22235025180688942, 0.22241739865164387, 0.22229683753745227, 0.2216959252282708, 0.22161407086731036, 0.22184328147417992, 0.2214732553143263, 0.2215338073335431, 0.22131215553465133, 0.22126623966872197, 0.22126484631814577, 0.22096471471925186, 0.2210260442901748, 0.22103138579291237, 0.221070084162225, 0.22109470118045593, 0.22108621576503434, 0.22118831502196593, 0.22119145826093808, 0.22129573118188672, 0.2213492028926294, 0.22123239265913675, 0.22105677605515037, 0.2209727469755571, 0.22104441893962748, 0.2210108073269148, 0.2210587557014351, 0.22090574064302781, 0.2208947739936496, 0.22116233141207903, 0.22125153397092084, 0.22124330868991912, 0.22120167723175732]\n",
      "\n",
      "\n"
     ]
    }
   ],
   "source": [
    "for key, value in evals_result.items():\n",
    "    print(f\"{key} scores:\")\n",
    "    for metric, score in value.items():\n",
    "        print(f\"{metric}: {score}\")\n",
    "    print('\\n')"
   ]
  },
  {
   "cell_type": "code",
   "execution_count": 103,
   "metadata": {},
   "outputs": [
    {
     "data": {
      "text/plain": [
       "[<matplotlib.lines.Line2D at 0x7fcf7e6f1f30>]"
      ]
     },
     "execution_count": 103,
     "metadata": {},
     "output_type": "execute_result"
    },
    {
     "data": {
      "image/png": "[encoded data removed]",
      "text/plain": [
       "<Figure size 640x480 with 1 Axes>"
      ]
     },
     "metadata": {},
     "output_type": "display_data"
    }
   ],
   "source": [
    "evals_result['val']['rmse']\n",
    "# plt.plot(np.arange(0,len(evals_result['val']['rmse']), evals_result['val']['rmse']))\n",
    "plt.plot(\n",
    "    list(np.arange(0, len(evals_result['val']['rmse']))),\n",
    ")"
   ]
  },
  {
   "cell_type": "code",
   "execution_count": 69,
   "metadata": {},
   "outputs": [
    {
     "data": {
      "text/plain": [
       "['[0]', 'train-rmse:0.44211', 'val-rmse:0.44440']"
      ]
     },
     "execution_count": 69,
     "metadata": {},
     "output_type": "execute_result"
    }
   ],
   "source": [
    "# for line in output.stdout.strip().split('\\n'):\n",
    "#     it_line, train_line, val_line = line.split('\\t')\n",
    "# \n",
    "#     it = int(it_line.strip('[]'))\n",
    "#     train = float(train_line.split(':')[1])\n",
    "#     val = float(val_line.split(':')[1])\n",
    "#     \n",
    "#     results.append((it, train, val))\n",
    "output.stdout.strip().split('\\n')[0].split('\\t')"
   ]
  },
  {
   "cell_type": "code",
   "execution_count": 75,
   "metadata": {},
   "outputs": [
    {
     "data": {
      "text/plain": [
       "<bound method Booster.eval_set of <xgboost.core.Booster object at 0x7fcf7e7acaf0>>"
      ]
     },
     "execution_count": 75,
     "metadata": {},
     "output_type": "execute_result"
    }
   ],
   "source": [
    "model.eval_set"
   ]
  }
 ],
 "metadata": {
  "kernelspec": {
   "display_name": "env",
   "language": "python",
   "name": "python3"
  },
  "language_info": {
   "codemirror_mode": {
    "name": "ipython",
    "version": 3
   },
   "file_extension": ".py",
   "mimetype": "text/x-python",
   "name": "python",
   "nbconvert_exporter": "python",
   "pygments_lexer": "ipython3",
   "version": "3.10.7"
  },
  "orig_nbformat": 4
 },
 "nbformat": 4,
 "nbformat_minor": 2
}
